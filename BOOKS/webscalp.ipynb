{
 "cells": [
  {
   "cell_type": "code",
   "execution_count": 15,
   "id": "1618d4b9",
   "metadata": {},
   "outputs": [],
   "source": [
    "import csv\n",
    "from urllib.request import urlopen as o\n",
    "from bs4 import BeautifulSoup as bs"
   ]
  },
  {
   "cell_type": "code",
   "execution_count": 25,
   "id": "b0c4668c",
   "metadata": {},
   "outputs": [],
   "source": [
    "url = 'https://books.toscrape.com/'\n",
    "book = o(url)\n",
    "html = book.read()"
   ]
  },
  {
   "cell_type": "code",
   "execution_count": 17,
   "id": "222001d9",
   "metadata": {},
   "outputs": [],
   "source": [
    "soup = bs(html, \"html.parser\")\n",
    "containers = soup.findAll(\"article\", {\"class\": \"product_pod\"})"
   ]
  },
  {
   "cell_type": "code",
   "execution_count": 18,
   "id": "3a528b0c",
   "metadata": {},
   "outputs": [
    {
     "data": {
      "text/plain": [
       "20"
      ]
     },
     "execution_count": 18,
     "metadata": {},
     "output_type": "execute_result"
    }
   ],
   "source": [
    "len(containers)"
   ]
  },
  {
   "cell_type": "code",
   "execution_count": 19,
   "id": "3f8ba40e",
   "metadata": {},
   "outputs": [
    {
     "data": {
      "text/plain": [
       "<article class=\"product_pod\">\n",
       "<div class=\"image_container\">\n",
       "<a href=\"catalogue/a-light-in-the-attic_1000/index.html\"><img alt=\"A Light in the Attic\" class=\"thumbnail\" src=\"media/cache/2c/da/2cdad67c44b002e7ead0cc35693c0e8b.jpg\"/></a>\n",
       "</div>\n",
       "<p class=\"star-rating Three\">\n",
       "<i class=\"icon-star\"></i>\n",
       "<i class=\"icon-star\"></i>\n",
       "<i class=\"icon-star\"></i>\n",
       "<i class=\"icon-star\"></i>\n",
       "<i class=\"icon-star\"></i>\n",
       "</p>\n",
       "<h3><a href=\"catalogue/a-light-in-the-attic_1000/index.html\" title=\"A Light in the Attic\">A Light in the ...</a></h3>\n",
       "<div class=\"product_price\">\n",
       "<p class=\"price_color\">£51.77</p>\n",
       "<p class=\"instock availability\">\n",
       "<i class=\"icon-ok\"></i>\n",
       "    \n",
       "        In stock\n",
       "    \n",
       "</p>\n",
       "<form>\n",
       "<button class=\"btn btn-primary btn-block\" data-loading-text=\"Adding...\" type=\"submit\">Add to basket</button>\n",
       "</form>\n",
       "</div>\n",
       "</article>"
      ]
     },
     "execution_count": 19,
     "metadata": {},
     "output_type": "execute_result"
    }
   ],
   "source": [
    "containers[0]"
   ]
  },
  {
   "cell_type": "code",
   "execution_count": 20,
   "id": "a688508a",
   "metadata": {},
   "outputs": [
    {
     "data": {
      "text/plain": [
       "37"
      ]
     },
     "execution_count": 20,
     "metadata": {},
     "output_type": "execute_result"
    }
   ],
   "source": [
    "filename = 'books.csv'\n",
    "f = open(filename, \"w\")\n",
    "header = \"Title,Price,Availability,Rating,Link\\n\"\n",
    "f.write(header)"
   ]
  },
  {
   "cell_type": "code",
   "execution_count": 23,
   "id": "de66cda2",
   "metadata": {},
   "outputs": [],
   "source": [
    "for books in containers:\n",
    "    title = books.h3.a.attrs['title'].replace(',', '')\n",
    "    price = books.find(\"p\", {\"class\": \"price_color\"}).text.strip()\n",
    "    availability = books.find(\"p\", {\"class\": \"instock availability\"}).text.strip()\n",
    "    rating = books.p.attrs['class'][1]\n",
    "    link = books.h3.a.attrs['href']\n",
    "    f.write(f\"{title},{price},{availability},{rating},{link}\\n\")"
   ]
  },
  {
   "cell_type": "markdown",
   "id": "0690f24f",
   "metadata": {},
   "source": [
    "Data Validation"
   ]
  },
  {
   "cell_type": "code",
   "execution_count": 24,
   "id": "e7d5d4f7",
   "metadata": {},
   "outputs": [
    {
     "name": "stdout",
     "output_type": "stream",
     "text": [
      "                                   Title   Price Availability Rating  \\\n",
      "0                   A Light in the Attic  £51.77     In stock  Three   \n",
      "1                     Tipping the Velvet  £53.74     In stock    One   \n",
      "2                             Soumission  £50.10     In stock    One   \n",
      "3                          Sharp Objects  £47.82     In stock   Four   \n",
      "4  Sapiens: A Brief History of Humankind  £54.23     In stock   Five   \n",
      "\n",
      "                                                Link  \n",
      "0     catalogue/a-light-in-the-attic_1000/index.html  \n",
      "1        catalogue/tipping-the-velvet_999/index.html  \n",
      "2                catalogue/soumission_998/index.html  \n",
      "3             catalogue/sharp-objects_997/index.html  \n",
      "4  catalogue/sapiens-a-brief-history-of-humankind...  \n"
     ]
    }
   ],
   "source": [
    "import pandas as pd\n",
    "\n",
    "df = pd.read_csv('books.csv')\n",
    "print(df.head())"
   ]
  },
  {
   "cell_type": "code",
   "execution_count": null,
   "id": "ed1ffc2b",
   "metadata": {},
   "outputs": [],
   "source": []
  }
 ],
 "metadata": {
  "kernelspec": {
   "display_name": "base",
   "language": "python",
   "name": "python3"
  },
  "language_info": {
   "codemirror_mode": {
    "name": "ipython",
    "version": 3
   },
   "file_extension": ".py",
   "mimetype": "text/x-python",
   "name": "python",
   "nbconvert_exporter": "python",
   "pygments_lexer": "ipython3",
   "version": "3.12.7"
  }
 },
 "nbformat": 4,
 "nbformat_minor": 5
}
