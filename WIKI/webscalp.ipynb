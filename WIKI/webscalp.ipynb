{
 "cells": [
  {
   "cell_type": "code",
   "execution_count": 78,
   "id": "a6fd455e",
   "metadata": {},
   "outputs": [],
   "source": [
    "import csv\n",
    "from urllib.request import urlopen as o\n",
    "from bs4 import BeautifulSoup as bs"
   ]
  },
  {
   "cell_type": "code",
   "execution_count": 80,
   "id": "068891d7",
   "metadata": {},
   "outputs": [],
   "source": [
    "url = 'https://en.wikipedia.org/wiki/Comparison_of_programming_languages'\n",
    "page = o(url)\n",
    "html = page.read()\n",
    "soup = bs(html, \"html.parser\")"
   ]
  },
  {
   "cell_type": "code",
   "execution_count": 81,
   "id": "1417c3fd",
   "metadata": {},
   "outputs": [],
   "source": [
    "table = soup.find('table', {'class': 'wikitable'})\n",
    "rows = table.find_all('tr')"
   ]
  },
  {
   "cell_type": "code",
   "execution_count": 84,
   "id": "6d2847c0",
   "metadata": {},
   "outputs": [
    {
     "data": {
      "text/plain": [
       "110"
      ]
     },
     "execution_count": 84,
     "metadata": {},
     "output_type": "execute_result"
    }
   ],
   "source": [
    "filename = 'programming.csv'\n",
    "f = open(filename, 'w', encoding='utf-8')\n",
    "header = \"Language,Original Purpose,Imperative,Object-oriented,Functional,Procedural,Generic,Reflective,Other Paradigms\\n\"\n",
    "f.write(header)"
   ]
  },
  {
   "cell_type": "code",
   "execution_count": 85,
   "id": "58f21be6",
   "metadata": {},
   "outputs": [],
   "source": [
    "for row in rows[1:]:\n",
    "    cols = row.find_all(['td', 'th'])\n",
    "    if len(cols) >= 9:\n",
    "        data = [col.text.strip().replace('\\n', ' ').replace(',', '') for col in cols[:9]]\n",
    "        f.write(','.join(data) + '\\n')\n",
    "\n",
    "f.close()"
   ]
  },
  {
   "cell_type": "markdown",
   "id": "60945c80",
   "metadata": {},
   "source": [
    "Data Validation"
   ]
  },
  {
   "cell_type": "code",
   "execution_count": 77,
   "id": "6fb64462",
   "metadata": {},
   "outputs": [
    {
     "name": "stdout",
     "output_type": "stream",
     "text": [
      "                             Language  \\\n",
      "0  1C:Enterprise programming language   \n",
      "1                        ActionScript   \n",
      "2                                 Ada   \n",
      "3                               Aldor   \n",
      "4                            ALGOL 58   \n",
      "\n",
      "                              Original Purpose Imperative Object-oriented  \\\n",
      "0  Application RAD business general web mobile        Yes              No   \n",
      "1                  Application client-side web        Yes             Yes   \n",
      "2         Application embedded realtime system        Yes          Yes[2]   \n",
      "3    Highly domain-specific symbolic computing        Yes             Yes   \n",
      "4                                  Application        Yes              No   \n",
      "\n",
      "  Functional Procedural Generic Reflective  \\\n",
      "0        Yes        Yes     Yes        Yes   \n",
      "1        Yes        Yes      No         No   \n",
      "2         No     Yes[3]  Yes[4]         No   \n",
      "3        Yes         No      No         No   \n",
      "4         No         No      No         No   \n",
      "\n",
      "                            Other Paradigms  \n",
      "0  Object-based Prototype-based programming  \n",
      "1                           prototype-based  \n",
      "2              Concurrent[5] distributed[6]  \n",
      "3                                       NaN  \n",
      "4                                       NaN  \n"
     ]
    }
   ],
   "source": [
    "import pandas as pd\n",
    "df = pd.read_csv('programming_languages_paradigms.csv')\n",
    "print(df.head())"
   ]
  }
 ],
 "metadata": {
  "kernelspec": {
   "display_name": "base",
   "language": "python",
   "name": "python3"
  },
  "language_info": {
   "codemirror_mode": {
    "name": "ipython",
    "version": 3
   },
   "file_extension": ".py",
   "mimetype": "text/x-python",
   "name": "python",
   "nbconvert_exporter": "python",
   "pygments_lexer": "ipython3",
   "version": "3.12.7"
  }
 },
 "nbformat": 4,
 "nbformat_minor": 5
}
